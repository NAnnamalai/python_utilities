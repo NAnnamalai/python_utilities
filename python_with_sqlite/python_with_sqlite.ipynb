{
 "cells": [
  {
   "cell_type": "markdown",
   "metadata": {},
   "source": [
    "##### using CAPITAL LETTERS for sqlite syntax, table names, columns are in lower case\n",
    "##### using ''' ''' where ever multiple line sqlite codes are used"
   ]
  },
  {
   "cell_type": "code",
   "execution_count": 1,
   "metadata": {
    "collapsed": true
   },
   "outputs": [],
   "source": [
    "import pandas as pd\n",
    "import sqlite3"
   ]
  },
  {
   "cell_type": "code",
   "execution_count": 2,
   "metadata": {
    "collapsed": false
   },
   "outputs": [],
   "source": [
    "df = pd.read_csv(\"https://raw.githubusercontent.com/fivethirtyeight/data/master/airline-safety/airline-safety.csv\")"
   ]
  },
  {
   "cell_type": "markdown",
   "metadata": {},
   "source": [
    "##### will check the total number of rows in data, just to make sure data is not huge"
   ]
  },
  {
   "cell_type": "code",
   "execution_count": 3,
   "metadata": {
    "collapsed": false
   },
   "outputs": [
    {
     "data": {
      "text/plain": [
       "56"
      ]
     },
     "execution_count": 3,
     "metadata": {},
     "output_type": "execute_result"
    }
   ],
   "source": [
    "len(df)"
   ]
  },
  {
   "cell_type": "markdown",
   "metadata": {},
   "source": [
    "##### now we will connect & create a new sqlite database\n",
    "* lets write that in a function so that we can just call it without rewriting it"
   ]
  },
  {
   "cell_type": "code",
   "execution_count": 4,
   "metadata": {
    "collapsed": false
   },
   "outputs": [],
   "source": [
    "def create_new_db(db_name):\n",
    "    conn = sqlite3.connect(db_name + \".db\")\n",
    "    print \"Database {} created successfully\".format(db_name)\n",
    "    return conn"
   ]
  },
  {
   "cell_type": "markdown",
   "metadata": {},
   "source": [
    "##### check the columns in the data to help us create a new table"
   ]
  },
  {
   "cell_type": "code",
   "execution_count": 5,
   "metadata": {
    "collapsed": false
   },
   "outputs": [
    {
     "data": {
      "text/plain": [
       "(Index([u'airline', u'avail_seat_km_per_week', u'incidents_85_99',\n",
       "        u'fatal_accidents_85_99', u'fatalities_85_99', u'incidents_00_14',\n",
       "        u'fatal_accidents_00_14', u'fatalities_00_14'],\n",
       "       dtype='object'), 8)"
      ]
     },
     "execution_count": 5,
     "metadata": {},
     "output_type": "execute_result"
    }
   ],
   "source": [
    "df.columns, len(df.columns)"
   ]
  },
  {
   "cell_type": "markdown",
   "metadata": {},
   "source": [
    "##### there are 8 columns and we are gonna create those in the table\n"
   ]
  },
  {
   "cell_type": "code",
   "execution_count": 6,
   "metadata": {
    "collapsed": true
   },
   "outputs": [],
   "source": [
    "create_query = '''\n",
    "                CREATE TABLE IF NOT EXISTS airlines \n",
    "                    (airline TEXT NOT NULL,\n",
    "                    avail_seat_km_per_week INT NOT NULL,\n",
    "                    incidents_85_99 INT NOT NULL,\n",
    "                    fatal_accidents_85_99 NOT NULL,\n",
    "                    fatalities_85_99 INT NOT NULL,\n",
    "                    incidents_00_14 NOT NULL,\n",
    "                    fatal_accidents_00_14 INT NOT NULL,\n",
    "                    fatalities_00_14 NOT NULL)\n",
    "'''"
   ]
  },
  {
   "cell_type": "code",
   "execution_count": 7,
   "metadata": {
    "collapsed": false
   },
   "outputs": [
    {
     "name": "stdout",
     "output_type": "stream",
     "text": [
      "Database airlines_safety created successfully\n"
     ]
    }
   ],
   "source": [
    "con = create_new_db(\"airlines_safety\")"
   ]
  },
  {
   "cell_type": "markdown",
   "metadata": {},
   "source": [
    "##### execute the create query statement"
   ]
  },
  {
   "cell_type": "code",
   "execution_count": 8,
   "metadata": {
    "collapsed": false
   },
   "outputs": [
    {
     "data": {
      "text/plain": [
       "<sqlite3.Cursor at 0x81faf10>"
      ]
     },
     "execution_count": 8,
     "metadata": {},
     "output_type": "execute_result"
    }
   ],
   "source": [
    "con.execute(create_query)"
   ]
  },
  {
   "cell_type": "markdown",
   "metadata": {},
   "source": [
    "##### to check if the table is created, let's write some code which could help us for display purpose"
   ]
  },
  {
   "cell_type": "code",
   "execution_count": 9,
   "metadata": {
    "collapsed": false
   },
   "outputs": [],
   "source": [
    "def display_data(table_name):\n",
    "    display_query = \"SELECT * FROM {}\".format(table_name)\n",
    "    cursor = con.execute(display_query)\n",
    "    rows = cursor.fetchall()\n",
    "    for row in rows:\n",
    "        print row\n",
    "    return"
   ]
  },
  {
   "cell_type": "markdown",
   "metadata": {},
   "source": [
    "##### insert the data by iterating the rows of df, this is not the best way to write to sqlite table, later will see a simple one line code which will do this \n",
    "##### with ease. Don't forget to commit"
   ]
  },
  {
   "cell_type": "code",
   "execution_count": 10,
   "metadata": {
    "collapsed": false
   },
   "outputs": [],
   "source": [
    "for ix, row in df.iterrows():\n",
    "    insert_query = '''\n",
    "                    INSERT OR IGNORE INTO airlines \n",
    "                        (airline, avail_seat_km_per_week, \n",
    "                         incidents_85_99, fatal_accidents_85_99,\n",
    "                         fatalities_85_99, incidents_00_14,\n",
    "                         fatal_accidents_00_14, fatalities_00_14)\n",
    "                         VALUES (?, ?, ?, ?, ?, ?, ?, ?)                   \n",
    "    \n",
    "    '''\n",
    "    nth_row = (row['airline'], row['avail_seat_km_per_week'],\n",
    "         row['incidents_85_99'], row['fatal_accidents_85_99'],\n",
    "         row['fatalities_85_99'], row['incidents_00_14'],\n",
    "         row['fatal_accidents_00_14'], row['fatalities_00_14'])\n",
    "    con.execute(insert_query, nth_row)\n",
    "con.commit()"
   ]
  },
  {
   "cell_type": "markdown",
   "metadata": {},
   "source": [
    "##### call the display function to how if records are inserted"
   ]
  },
  {
   "cell_type": "code",
   "execution_count": 11,
   "metadata": {
    "collapsed": false
   },
   "outputs": [
    {
     "name": "stdout",
     "output_type": "stream",
     "text": [
      "(u'Aer Lingus', 320906734, 2, 0, 0, 0, 0, 0)\n",
      "(u'Aeroflot*', 1197672318, 76, 14, 128, 6, 1, 88)\n",
      "(u'Aerolineas Argentinas', 385803648, 6, 0, 0, 1, 0, 0)\n",
      "(u'Aeromexico*', 596871813, 3, 1, 64, 5, 0, 0)\n",
      "(u'Air Canada', 1865253802, 2, 0, 0, 2, 0, 0)\n",
      "(u'Air France', 3004002661L, 14, 4, 79, 6, 2, 337)\n",
      "(u'Air India*', 869253552, 2, 1, 329, 4, 1, 158)\n",
      "(u'Air New Zealand*', 710174817, 3, 0, 0, 5, 1, 7)\n",
      "(u'Alaska Airlines*', 965346773, 5, 0, 0, 5, 1, 88)\n",
      "(u'Alitalia', 698012498, 7, 2, 50, 4, 0, 0)\n",
      "(u'All Nippon Airways', 1841234177, 3, 1, 1, 7, 0, 0)\n",
      "(u'American*', 5228357340L, 21, 5, 101, 17, 3, 416)\n",
      "(u'Austrian Airlines', 358239823, 1, 0, 0, 1, 0, 0)\n",
      "(u'Avianca', 396922563, 5, 3, 323, 0, 0, 0)\n",
      "(u'British Airways*', 3179760952L, 4, 0, 0, 6, 0, 0)\n",
      "(u'Cathay Pacific*', 2582459303L, 0, 0, 0, 2, 0, 0)\n",
      "(u'China Airlines', 813216487, 12, 6, 535, 2, 1, 225)\n",
      "(u'Condor', 417982610, 2, 1, 16, 0, 0, 0)\n",
      "(u'COPA', 550491507, 3, 1, 47, 0, 0, 0)\n",
      "(u'Delta / Northwest*', 6525658894L, 24, 12, 407, 24, 2, 51)\n",
      "(u'Egyptair', 557699891, 8, 3, 282, 4, 1, 14)\n",
      "(u'El Al', 335448023, 1, 1, 4, 1, 0, 0)\n",
      "(u'Ethiopian Airlines', 488560643, 25, 5, 167, 5, 2, 92)\n",
      "(u'Finnair', 506464950, 1, 0, 0, 0, 0, 0)\n",
      "(u'Garuda Indonesia', 613356665, 10, 3, 260, 4, 2, 22)\n",
      "(u'Gulf Air', 301379762, 1, 0, 0, 3, 1, 143)\n",
      "(u'Hawaiian Airlines', 493877795, 0, 0, 0, 1, 0, 0)\n",
      "(u'Iberia', 1173203126, 4, 1, 148, 5, 0, 0)\n",
      "(u'Japan Airlines', 1574217531, 3, 1, 520, 0, 0, 0)\n",
      "(u'Kenya Airways', 277414794, 2, 0, 0, 2, 2, 283)\n",
      "(u'KLM*', 1874561773, 7, 1, 3, 1, 0, 0)\n",
      "(u'Korean Air', 1734522605, 12, 5, 425, 1, 0, 0)\n",
      "(u'LAN Airlines', 1001965891, 3, 2, 21, 0, 0, 0)\n",
      "(u'Lufthansa*', 3426529504L, 6, 1, 2, 3, 0, 0)\n",
      "(u'Malaysia Airlines', 1039171244, 3, 1, 34, 3, 2, 537)\n",
      "(u'Pakistan International', 348563137, 8, 3, 234, 10, 2, 46)\n",
      "(u'Philippine Airlines', 413007158, 7, 4, 74, 2, 1, 1)\n",
      "(u'Qantas*', 1917428984, 1, 0, 0, 5, 0, 0)\n",
      "(u'Royal Air Maroc', 295705339, 5, 3, 51, 3, 0, 0)\n",
      "(u'SAS*', 682971852, 5, 0, 0, 6, 1, 110)\n",
      "(u'Saudi Arabian', 859673901, 7, 2, 313, 11, 0, 0)\n",
      "(u'Singapore Airlines', 2376857805L, 2, 2, 6, 2, 1, 83)\n",
      "(u'South African', 651502442, 2, 1, 159, 1, 0, 0)\n",
      "(u'Southwest Airlines', 3276525770L, 1, 0, 0, 8, 0, 0)\n",
      "(u'Sri Lankan / AirLanka', 325582976, 2, 1, 14, 4, 0, 0)\n",
      "(u'SWISS*', 792601299, 2, 1, 229, 3, 0, 0)\n",
      "(u'TACA', 259373346, 3, 1, 3, 1, 1, 3)\n",
      "(u'TAM', 1509195646, 8, 3, 98, 7, 2, 188)\n",
      "(u'TAP - Air Portugal', 619130754, 0, 0, 0, 0, 0, 0)\n",
      "(u'Thai Airways', 1702802250, 8, 4, 308, 2, 1, 1)\n",
      "(u'Turkish Airlines', 1946098294, 8, 3, 64, 8, 2, 84)\n",
      "(u'United / Continental*', 7139291291L, 19, 8, 319, 14, 2, 109)\n",
      "(u'US Airways / America West*', 2455687887L, 16, 7, 224, 11, 2, 23)\n",
      "(u'Vietnam Airlines', 625084918, 7, 3, 171, 1, 0, 0)\n",
      "(u'Virgin Atlantic', 1005248585, 1, 0, 0, 0, 0, 0)\n",
      "(u'Xiamen Airlines', 430462962, 9, 1, 82, 2, 0, 0)\n"
     ]
    }
   ],
   "source": [
    "display_data(\"airlines\")"
   ]
  },
  {
   "cell_type": "markdown",
   "metadata": {},
   "source": [
    "##### now lets do some stuff like deletion and updates\n",
    "##### delete the row where airline name is \"Gulf Air\""
   ]
  },
  {
   "cell_type": "code",
   "execution_count": 12,
   "metadata": {
    "collapsed": false
   },
   "outputs": [],
   "source": [
    "delete_query = \" DELETE FROM airlines WHERE airline = 'Gulf Air' \"\n",
    "con.execute(delete_query)\n",
    "con.commit()"
   ]
  },
  {
   "cell_type": "code",
   "execution_count": 13,
   "metadata": {
    "collapsed": false
   },
   "outputs": [
    {
     "name": "stdout",
     "output_type": "stream",
     "text": [
      "(u'Aer Lingus', 320906734, 2, 0, 0, 0, 0, 0)\n",
      "(u'Aeroflot*', 1197672318, 76, 14, 128, 6, 1, 88)\n",
      "(u'Aerolineas Argentinas', 385803648, 6, 0, 0, 1, 0, 0)\n",
      "(u'Aeromexico*', 596871813, 3, 1, 64, 5, 0, 0)\n",
      "(u'Air Canada', 1865253802, 2, 0, 0, 2, 0, 0)\n",
      "(u'Air France', 3004002661L, 14, 4, 79, 6, 2, 337)\n",
      "(u'Air India*', 869253552, 2, 1, 329, 4, 1, 158)\n",
      "(u'Air New Zealand*', 710174817, 3, 0, 0, 5, 1, 7)\n",
      "(u'Alaska Airlines*', 965346773, 5, 0, 0, 5, 1, 88)\n",
      "(u'Alitalia', 698012498, 7, 2, 50, 4, 0, 0)\n",
      "(u'All Nippon Airways', 1841234177, 3, 1, 1, 7, 0, 0)\n",
      "(u'American*', 5228357340L, 21, 5, 101, 17, 3, 416)\n",
      "(u'Austrian Airlines', 358239823, 1, 0, 0, 1, 0, 0)\n",
      "(u'Avianca', 396922563, 5, 3, 323, 0, 0, 0)\n",
      "(u'British Airways*', 3179760952L, 4, 0, 0, 6, 0, 0)\n",
      "(u'Cathay Pacific*', 2582459303L, 0, 0, 0, 2, 0, 0)\n",
      "(u'China Airlines', 813216487, 12, 6, 535, 2, 1, 225)\n",
      "(u'Condor', 417982610, 2, 1, 16, 0, 0, 0)\n",
      "(u'COPA', 550491507, 3, 1, 47, 0, 0, 0)\n",
      "(u'Delta / Northwest*', 6525658894L, 24, 12, 407, 24, 2, 51)\n",
      "(u'Egyptair', 557699891, 8, 3, 282, 4, 1, 14)\n",
      "(u'El Al', 335448023, 1, 1, 4, 1, 0, 0)\n",
      "(u'Ethiopian Airlines', 488560643, 25, 5, 167, 5, 2, 92)\n",
      "(u'Finnair', 506464950, 1, 0, 0, 0, 0, 0)\n",
      "(u'Garuda Indonesia', 613356665, 10, 3, 260, 4, 2, 22)\n",
      "(u'Hawaiian Airlines', 493877795, 0, 0, 0, 1, 0, 0)\n",
      "(u'Iberia', 1173203126, 4, 1, 148, 5, 0, 0)\n",
      "(u'Japan Airlines', 1574217531, 3, 1, 520, 0, 0, 0)\n",
      "(u'Kenya Airways', 277414794, 2, 0, 0, 2, 2, 283)\n",
      "(u'KLM*', 1874561773, 7, 1, 3, 1, 0, 0)\n",
      "(u'Korean Air', 1734522605, 12, 5, 425, 1, 0, 0)\n",
      "(u'LAN Airlines', 1001965891, 3, 2, 21, 0, 0, 0)\n",
      "(u'Lufthansa*', 3426529504L, 6, 1, 2, 3, 0, 0)\n",
      "(u'Malaysia Airlines', 1039171244, 3, 1, 34, 3, 2, 537)\n",
      "(u'Pakistan International', 348563137, 8, 3, 234, 10, 2, 46)\n",
      "(u'Philippine Airlines', 413007158, 7, 4, 74, 2, 1, 1)\n",
      "(u'Qantas*', 1917428984, 1, 0, 0, 5, 0, 0)\n",
      "(u'Royal Air Maroc', 295705339, 5, 3, 51, 3, 0, 0)\n",
      "(u'SAS*', 682971852, 5, 0, 0, 6, 1, 110)\n",
      "(u'Saudi Arabian', 859673901, 7, 2, 313, 11, 0, 0)\n",
      "(u'Singapore Airlines', 2376857805L, 2, 2, 6, 2, 1, 83)\n",
      "(u'South African', 651502442, 2, 1, 159, 1, 0, 0)\n",
      "(u'Southwest Airlines', 3276525770L, 1, 0, 0, 8, 0, 0)\n",
      "(u'Sri Lankan / AirLanka', 325582976, 2, 1, 14, 4, 0, 0)\n",
      "(u'SWISS*', 792601299, 2, 1, 229, 3, 0, 0)\n",
      "(u'TACA', 259373346, 3, 1, 3, 1, 1, 3)\n",
      "(u'TAM', 1509195646, 8, 3, 98, 7, 2, 188)\n",
      "(u'TAP - Air Portugal', 619130754, 0, 0, 0, 0, 0, 0)\n",
      "(u'Thai Airways', 1702802250, 8, 4, 308, 2, 1, 1)\n",
      "(u'Turkish Airlines', 1946098294, 8, 3, 64, 8, 2, 84)\n",
      "(u'United / Continental*', 7139291291L, 19, 8, 319, 14, 2, 109)\n",
      "(u'US Airways / America West*', 2455687887L, 16, 7, 224, 11, 2, 23)\n",
      "(u'Vietnam Airlines', 625084918, 7, 3, 171, 1, 0, 0)\n",
      "(u'Virgin Atlantic', 1005248585, 1, 0, 0, 0, 0, 0)\n",
      "(u'Xiamen Airlines', 430462962, 9, 1, 82, 2, 0, 0)\n"
     ]
    }
   ],
   "source": [
    "display_data('airlines')"
   ]
  },
  {
   "cell_type": "markdown",
   "metadata": {},
   "source": [
    "##### now do a update, replace airline name which has star to without star"
   ]
  },
  {
   "cell_type": "code",
   "execution_count": 14,
   "metadata": {
    "collapsed": false
   },
   "outputs": [],
   "source": [
    "update_query = \"UPDATE airlines SET airline = 'SAS' WHERE airline = 'SAS*' \"\n",
    "con.execute(update_query)\n",
    "con.commit()"
   ]
  },
  {
   "cell_type": "code",
   "execution_count": 15,
   "metadata": {
    "collapsed": false
   },
   "outputs": [
    {
     "name": "stdout",
     "output_type": "stream",
     "text": [
      "(u'Aer Lingus', 320906734, 2, 0, 0, 0, 0, 0)\n",
      "(u'Aeroflot*', 1197672318, 76, 14, 128, 6, 1, 88)\n",
      "(u'Aerolineas Argentinas', 385803648, 6, 0, 0, 1, 0, 0)\n",
      "(u'Aeromexico*', 596871813, 3, 1, 64, 5, 0, 0)\n",
      "(u'Air Canada', 1865253802, 2, 0, 0, 2, 0, 0)\n",
      "(u'Air France', 3004002661L, 14, 4, 79, 6, 2, 337)\n",
      "(u'Air India*', 869253552, 2, 1, 329, 4, 1, 158)\n",
      "(u'Air New Zealand*', 710174817, 3, 0, 0, 5, 1, 7)\n",
      "(u'Alaska Airlines*', 965346773, 5, 0, 0, 5, 1, 88)\n",
      "(u'Alitalia', 698012498, 7, 2, 50, 4, 0, 0)\n",
      "(u'All Nippon Airways', 1841234177, 3, 1, 1, 7, 0, 0)\n",
      "(u'American*', 5228357340L, 21, 5, 101, 17, 3, 416)\n",
      "(u'Austrian Airlines', 358239823, 1, 0, 0, 1, 0, 0)\n",
      "(u'Avianca', 396922563, 5, 3, 323, 0, 0, 0)\n",
      "(u'British Airways*', 3179760952L, 4, 0, 0, 6, 0, 0)\n",
      "(u'Cathay Pacific*', 2582459303L, 0, 0, 0, 2, 0, 0)\n",
      "(u'China Airlines', 813216487, 12, 6, 535, 2, 1, 225)\n",
      "(u'Condor', 417982610, 2, 1, 16, 0, 0, 0)\n",
      "(u'COPA', 550491507, 3, 1, 47, 0, 0, 0)\n",
      "(u'Delta / Northwest*', 6525658894L, 24, 12, 407, 24, 2, 51)\n",
      "(u'Egyptair', 557699891, 8, 3, 282, 4, 1, 14)\n",
      "(u'El Al', 335448023, 1, 1, 4, 1, 0, 0)\n",
      "(u'Ethiopian Airlines', 488560643, 25, 5, 167, 5, 2, 92)\n",
      "(u'Finnair', 506464950, 1, 0, 0, 0, 0, 0)\n",
      "(u'Garuda Indonesia', 613356665, 10, 3, 260, 4, 2, 22)\n",
      "(u'Hawaiian Airlines', 493877795, 0, 0, 0, 1, 0, 0)\n",
      "(u'Iberia', 1173203126, 4, 1, 148, 5, 0, 0)\n",
      "(u'Japan Airlines', 1574217531, 3, 1, 520, 0, 0, 0)\n",
      "(u'Kenya Airways', 277414794, 2, 0, 0, 2, 2, 283)\n",
      "(u'KLM*', 1874561773, 7, 1, 3, 1, 0, 0)\n",
      "(u'Korean Air', 1734522605, 12, 5, 425, 1, 0, 0)\n",
      "(u'LAN Airlines', 1001965891, 3, 2, 21, 0, 0, 0)\n",
      "(u'Lufthansa*', 3426529504L, 6, 1, 2, 3, 0, 0)\n",
      "(u'Malaysia Airlines', 1039171244, 3, 1, 34, 3, 2, 537)\n",
      "(u'Pakistan International', 348563137, 8, 3, 234, 10, 2, 46)\n",
      "(u'Philippine Airlines', 413007158, 7, 4, 74, 2, 1, 1)\n",
      "(u'Qantas*', 1917428984, 1, 0, 0, 5, 0, 0)\n",
      "(u'Royal Air Maroc', 295705339, 5, 3, 51, 3, 0, 0)\n",
      "(u'SAS', 682971852, 5, 0, 0, 6, 1, 110)\n",
      "(u'Saudi Arabian', 859673901, 7, 2, 313, 11, 0, 0)\n",
      "(u'Singapore Airlines', 2376857805L, 2, 2, 6, 2, 1, 83)\n",
      "(u'South African', 651502442, 2, 1, 159, 1, 0, 0)\n",
      "(u'Southwest Airlines', 3276525770L, 1, 0, 0, 8, 0, 0)\n",
      "(u'Sri Lankan / AirLanka', 325582976, 2, 1, 14, 4, 0, 0)\n",
      "(u'SWISS*', 792601299, 2, 1, 229, 3, 0, 0)\n",
      "(u'TACA', 259373346, 3, 1, 3, 1, 1, 3)\n",
      "(u'TAM', 1509195646, 8, 3, 98, 7, 2, 188)\n",
      "(u'TAP - Air Portugal', 619130754, 0, 0, 0, 0, 0, 0)\n",
      "(u'Thai Airways', 1702802250, 8, 4, 308, 2, 1, 1)\n",
      "(u'Turkish Airlines', 1946098294, 8, 3, 64, 8, 2, 84)\n",
      "(u'United / Continental*', 7139291291L, 19, 8, 319, 14, 2, 109)\n",
      "(u'US Airways / America West*', 2455687887L, 16, 7, 224, 11, 2, 23)\n",
      "(u'Vietnam Airlines', 625084918, 7, 3, 171, 1, 0, 0)\n",
      "(u'Virgin Atlantic', 1005248585, 1, 0, 0, 0, 0, 0)\n",
      "(u'Xiamen Airlines', 430462962, 9, 1, 82, 2, 0, 0)\n"
     ]
    }
   ],
   "source": [
    "display_data('airlines')"
   ]
  },
  {
   "cell_type": "markdown",
   "metadata": {},
   "source": [
    "##### lets do some of these things in python way, using just the con object"
   ]
  },
  {
   "cell_type": "code",
   "execution_count": 16,
   "metadata": {
    "collapsed": false
   },
   "outputs": [],
   "source": [
    "df = pd.read_sql(\"SELECT * FROM airlines\", con)"
   ]
  },
  {
   "cell_type": "code",
   "execution_count": 17,
   "metadata": {
    "collapsed": false
   },
   "outputs": [
    {
     "data": {
      "text/html": [
       "<div>\n",
       "<table border=\"1\" class=\"dataframe\">\n",
       "  <thead>\n",
       "    <tr style=\"text-align: right;\">\n",
       "      <th></th>\n",
       "      <th>airline</th>\n",
       "      <th>avail_seat_km_per_week</th>\n",
       "      <th>incidents_85_99</th>\n",
       "      <th>fatal_accidents_85_99</th>\n",
       "      <th>fatalities_85_99</th>\n",
       "      <th>incidents_00_14</th>\n",
       "      <th>fatal_accidents_00_14</th>\n",
       "      <th>fatalities_00_14</th>\n",
       "    </tr>\n",
       "  </thead>\n",
       "  <tbody>\n",
       "    <tr>\n",
       "      <th>0</th>\n",
       "      <td>Aer Lingus</td>\n",
       "      <td>320906734</td>\n",
       "      <td>2</td>\n",
       "      <td>0</td>\n",
       "      <td>0</td>\n",
       "      <td>0</td>\n",
       "      <td>0</td>\n",
       "      <td>0</td>\n",
       "    </tr>\n",
       "    <tr>\n",
       "      <th>1</th>\n",
       "      <td>Aeroflot*</td>\n",
       "      <td>1197672318</td>\n",
       "      <td>76</td>\n",
       "      <td>14</td>\n",
       "      <td>128</td>\n",
       "      <td>6</td>\n",
       "      <td>1</td>\n",
       "      <td>88</td>\n",
       "    </tr>\n",
       "    <tr>\n",
       "      <th>2</th>\n",
       "      <td>Aerolineas Argentinas</td>\n",
       "      <td>385803648</td>\n",
       "      <td>6</td>\n",
       "      <td>0</td>\n",
       "      <td>0</td>\n",
       "      <td>1</td>\n",
       "      <td>0</td>\n",
       "      <td>0</td>\n",
       "    </tr>\n",
       "    <tr>\n",
       "      <th>3</th>\n",
       "      <td>Aeromexico*</td>\n",
       "      <td>596871813</td>\n",
       "      <td>3</td>\n",
       "      <td>1</td>\n",
       "      <td>64</td>\n",
       "      <td>5</td>\n",
       "      <td>0</td>\n",
       "      <td>0</td>\n",
       "    </tr>\n",
       "    <tr>\n",
       "      <th>4</th>\n",
       "      <td>Air Canada</td>\n",
       "      <td>1865253802</td>\n",
       "      <td>2</td>\n",
       "      <td>0</td>\n",
       "      <td>0</td>\n",
       "      <td>2</td>\n",
       "      <td>0</td>\n",
       "      <td>0</td>\n",
       "    </tr>\n",
       "  </tbody>\n",
       "</table>\n",
       "</div>"
      ],
      "text/plain": [
       "                 airline  avail_seat_km_per_week  incidents_85_99  \\\n",
       "0             Aer Lingus               320906734                2   \n",
       "1              Aeroflot*              1197672318               76   \n",
       "2  Aerolineas Argentinas               385803648                6   \n",
       "3            Aeromexico*               596871813                3   \n",
       "4             Air Canada              1865253802                2   \n",
       "\n",
       "   fatal_accidents_85_99  fatalities_85_99  incidents_00_14  \\\n",
       "0                      0                 0                0   \n",
       "1                     14               128                6   \n",
       "2                      0                 0                1   \n",
       "3                      1                64                5   \n",
       "4                      0                 0                2   \n",
       "\n",
       "   fatal_accidents_00_14  fatalities_00_14  \n",
       "0                      0                 0  \n",
       "1                      1                88  \n",
       "2                      0                 0  \n",
       "3                      0                 0  \n",
       "4                      0                 0  "
      ]
     },
     "execution_count": 17,
     "metadata": {},
     "output_type": "execute_result"
    }
   ],
   "source": [
    "df.head()"
   ]
  },
  {
   "cell_type": "code",
   "execution_count": 18,
   "metadata": {
    "collapsed": false
   },
   "outputs": [],
   "source": [
    "df_delete = pd.read_sql(\"SELECT * FROM airlines WHERE airline != 'Air Canada'\", con)"
   ]
  },
  {
   "cell_type": "code",
   "execution_count": 19,
   "metadata": {
    "collapsed": false
   },
   "outputs": [
    {
     "data": {
      "text/plain": [
       "55"
      ]
     },
     "execution_count": 19,
     "metadata": {},
     "output_type": "execute_result"
    }
   ],
   "source": [
    "len(df)"
   ]
  },
  {
   "cell_type": "code",
   "execution_count": 20,
   "metadata": {
    "collapsed": false
   },
   "outputs": [
    {
     "data": {
      "text/plain": [
       "54"
      ]
     },
     "execution_count": 20,
     "metadata": {},
     "output_type": "execute_result"
    }
   ],
   "source": [
    "len(df_delete)"
   ]
  },
  {
   "cell_type": "markdown",
   "metadata": {},
   "source": [
    "##### will write the data frame result to the table in a single line"
   ]
  },
  {
   "cell_type": "code",
   "execution_count": 21,
   "metadata": {
    "collapsed": false
   },
   "outputs": [],
   "source": [
    "df_delete.to_sql(\"airline\", con, if_exists=\"replace\")"
   ]
  },
  {
   "cell_type": "markdown",
   "metadata": {},
   "source": [
    "##### so we can read in the sqlite table using pandas dataframe, then do all the stuff in pandas and write it back to sqlite (without getting to write too much of sqlite code)"
   ]
  },
  {
   "cell_type": "markdown",
   "metadata": {
    "collapsed": true
   },
   "source": [
    "##### todos: explore groupy with sqlite"
   ]
  },
  {
   "cell_type": "code",
   "execution_count": null,
   "metadata": {
    "collapsed": true
   },
   "outputs": [],
   "source": []
  }
 ],
 "metadata": {
  "anaconda-cloud": {},
  "kernelspec": {
   "display_name": "Python [conda root]",
   "language": "python",
   "name": "conda-root-py"
  },
  "language_info": {
   "codemirror_mode": {
    "name": "ipython",
    "version": 2
   },
   "file_extension": ".py",
   "mimetype": "text/x-python",
   "name": "python",
   "nbconvert_exporter": "python",
   "pygments_lexer": "ipython2",
   "version": "2.7.12"
  }
 },
 "nbformat": 4,
 "nbformat_minor": 1
}
